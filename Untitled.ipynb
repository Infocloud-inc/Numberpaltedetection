{
 "cells": [
  {
   "cell_type": "code",
   "execution_count": 8,
   "id": "e1edd251",
   "metadata": {},
   "outputs": [
    {
     "name": "stdout",
     "output_type": "stream",
     "text": [
      "Requirement already satisfied: easyocr in c:\\users\\chuli\\anaconda3\\andoconda2\\lib\\site-packages (1.6.2)\n",
      "Requirement already satisfied: opencv-python-headless<=4.5.4.60 in c:\\users\\chuli\\anaconda3\\andoconda2\\lib\\site-packages (from easyocr) (4.5.4.60)\n",
      "Requirement already satisfied: PyYAML in c:\\users\\chuli\\anaconda3\\andoconda2\\lib\\site-packages (from easyocr) (6.0)\n",
      "Requirement already satisfied: numpy in c:\\users\\chuli\\anaconda3\\andoconda2\\lib\\site-packages (from easyocr) (1.23.5)\n",
      "Requirement already satisfied: scikit-image in c:\\users\\chuli\\anaconda3\\andoconda2\\lib\\site-packages (from easyocr) (0.19.3)\n",
      "Requirement already satisfied: ninja in c:\\users\\chuli\\anaconda3\\andoconda2\\lib\\site-packages (from easyocr) (1.11.1)\n",
      "Requirement already satisfied: python-bidi in c:\\users\\chuli\\anaconda3\\andoconda2\\lib\\site-packages (from easyocr) (0.4.2)\n",
      "Requirement already satisfied: pyclipper in c:\\users\\chuli\\anaconda3\\andoconda2\\lib\\site-packages (from easyocr) (1.3.0.post4)\n",
      "Requirement already satisfied: Pillow in c:\\users\\chuli\\anaconda3\\andoconda2\\lib\\site-packages (from easyocr) (9.4.0)\n",
      "Requirement already satisfied: torch in c:\\users\\chuli\\anaconda3\\andoconda2\\lib\\site-packages (from easyocr) (2.0.0)\n",
      "Requirement already satisfied: Shapely in c:\\users\\chuli\\anaconda3\\andoconda2\\lib\\site-packages (from easyocr) (2.0.1)\n",
      "Requirement already satisfied: torchvision>=0.5 in c:\\users\\chuli\\anaconda3\\andoconda2\\lib\\site-packages (from easyocr) (0.15.1)\n",
      "Requirement already satisfied: scipy in c:\\users\\chuli\\anaconda3\\andoconda2\\lib\\site-packages (from easyocr) (1.10.0)\n",
      "Requirement already satisfied: requests in c:\\users\\chuli\\anaconda3\\andoconda2\\lib\\site-packages (from torchvision>=0.5->easyocr) (2.28.1)\n",
      "Requirement already satisfied: filelock in c:\\users\\chuli\\anaconda3\\andoconda2\\lib\\site-packages (from torch->easyocr) (3.9.0)\n",
      "Requirement already satisfied: networkx in c:\\users\\chuli\\anaconda3\\andoconda2\\lib\\site-packages (from torch->easyocr) (2.8.4)\n",
      "Requirement already satisfied: typing-extensions in c:\\users\\chuli\\anaconda3\\andoconda2\\lib\\site-packages (from torch->easyocr) (4.4.0)\n",
      "Requirement already satisfied: jinja2 in c:\\users\\chuli\\anaconda3\\andoconda2\\lib\\site-packages (from torch->easyocr) (3.1.2)\n",
      "Requirement already satisfied: sympy in c:\\users\\chuli\\anaconda3\\andoconda2\\lib\\site-packages (from torch->easyocr) (1.11.1)\n",
      "Requirement already satisfied: six in c:\\users\\chuli\\anaconda3\\andoconda2\\lib\\site-packages (from python-bidi->easyocr) (1.16.0)\n",
      "Requirement already satisfied: imageio>=2.4.1 in c:\\users\\chuli\\anaconda3\\andoconda2\\lib\\site-packages (from scikit-image->easyocr) (2.26.0)\n",
      "Requirement already satisfied: tifffile>=2019.7.26 in c:\\users\\chuli\\anaconda3\\andoconda2\\lib\\site-packages (from scikit-image->easyocr) (2021.7.2)\n",
      "Requirement already satisfied: PyWavelets>=1.1.1 in c:\\users\\chuli\\anaconda3\\andoconda2\\lib\\site-packages (from scikit-image->easyocr) (1.4.1)\n",
      "Requirement already satisfied: packaging>=20.0 in c:\\users\\chuli\\anaconda3\\andoconda2\\lib\\site-packages (from scikit-image->easyocr) (22.0)\n",
      "Requirement already satisfied: MarkupSafe>=2.0 in c:\\users\\chuli\\anaconda3\\andoconda2\\lib\\site-packages (from jinja2->torch->easyocr) (2.1.1)\n",
      "Requirement already satisfied: charset-normalizer<3,>=2 in c:\\users\\chuli\\anaconda3\\andoconda2\\lib\\site-packages (from requests->torchvision>=0.5->easyocr) (2.0.4)\n",
      "Requirement already satisfied: idna<4,>=2.5 in c:\\users\\chuli\\anaconda3\\andoconda2\\lib\\site-packages (from requests->torchvision>=0.5->easyocr) (3.4)\n",
      "Requirement already satisfied: certifi>=2017.4.17 in c:\\users\\chuli\\anaconda3\\andoconda2\\lib\\site-packages (from requests->torchvision>=0.5->easyocr) (2022.12.7)\n",
      "Requirement already satisfied: urllib3<1.27,>=1.21.1 in c:\\users\\chuli\\anaconda3\\andoconda2\\lib\\site-packages (from requests->torchvision>=0.5->easyocr) (1.26.14)\n",
      "Requirement already satisfied: mpmath>=0.19 in c:\\users\\chuli\\anaconda3\\andoconda2\\lib\\site-packages (from sympy->torch->easyocr) (1.2.1)\n"
     ]
    }
   ],
   "source": [
    "!pip install easyocr\n"
   ]
  },
  {
   "cell_type": "code",
   "execution_count": null,
   "id": "178ec3d8",
   "metadata": {},
   "outputs": [],
   "source": [
    "import matplotlib.pyplot as plt\n",
    "import cv2\n",
    "import easyocr\n",
    "from IPython.display import Image"
   ]
  },
  {
   "cell_type": "code",
   "execution_count": null,
   "id": "be7d0fb1",
   "metadata": {},
   "outputs": [],
   "source": [
    "Image(\"/plates/scaned_img_0.png\")"
   ]
  },
  {
   "cell_type": "code",
   "execution_count": 1,
   "id": "475666ff",
   "metadata": {},
   "outputs": [
    {
     "ename": "NameError",
     "evalue": "name 'easyocr' is not defined",
     "output_type": "error",
     "traceback": [
      "\u001b[1;31m---------------------------------------------------------------------------\u001b[0m",
      "\u001b[1;31mNameError\u001b[0m                                 Traceback (most recent call last)",
      "Cell \u001b[1;32mIn[1], line 1\u001b[0m\n\u001b[1;32m----> 1\u001b[0m reader \u001b[38;5;241m=\u001b[39m \u001b[43measyocr\u001b[49m\u001b[38;5;241m.\u001b[39mReader([\u001b[38;5;124m'\u001b[39m\u001b[38;5;124men\u001b[39m\u001b[38;5;124m'\u001b[39m])\n",
      "\u001b[1;31mNameError\u001b[0m: name 'easyocr' is not defined"
     ]
    }
   ],
   "source": [
    "\n",
    "reader = easyocr.Reader(['en'])\n",
    "     "
   ]
  },
  {
   "cell_type": "code",
   "execution_count": 4,
   "id": "1e652c24",
   "metadata": {},
   "outputs": [
    {
     "ename": "NameError",
     "evalue": "name 'reader' is not defined",
     "output_type": "error",
     "traceback": [
      "\u001b[1;31m---------------------------------------------------------------------------\u001b[0m",
      "\u001b[1;31mNameError\u001b[0m                                 Traceback (most recent call last)",
      "Cell \u001b[1;32mIn[4], line 1\u001b[0m\n\u001b[1;32m----> 1\u001b[0m output \u001b[38;5;241m=\u001b[39m \u001b[43mreader\u001b[49m\u001b[38;5;241m.\u001b[39mreadtext(\u001b[38;5;124m'\u001b[39m\u001b[38;5;124m/plates/scaned_img_0.png\u001b[39m\u001b[38;5;124m'\u001b[39m)\n",
      "\u001b[1;31mNameError\u001b[0m: name 'reader' is not defined"
     ]
    }
   ],
   "source": [
    "\n",
    "output = reader.readtext('/plates/scaned_img_0.png')"
   ]
  },
  {
   "cell_type": "code",
   "execution_count": 2,
   "id": "26b59c0a",
   "metadata": {},
   "outputs": [
    {
     "ename": "NameError",
     "evalue": "name 'output' is not defined",
     "output_type": "error",
     "traceback": [
      "\u001b[1;31m---------------------------------------------------------------------------\u001b[0m",
      "\u001b[1;31mNameError\u001b[0m                                 Traceback (most recent call last)",
      "Cell \u001b[1;32mIn[2], line 1\u001b[0m\n\u001b[1;32m----> 1\u001b[0m \u001b[43moutput\u001b[49m\n",
      "\u001b[1;31mNameError\u001b[0m: name 'output' is not defined"
     ]
    }
   ],
   "source": [
    "output"
   ]
  },
  {
   "cell_type": "code",
   "execution_count": null,
   "id": "26a37af1",
   "metadata": {},
   "outputs": [],
   "source": [
    "cord = output[-1][0]"
   ]
  },
  {
   "cell_type": "code",
   "execution_count": null,
   "id": "9c6a6b95",
   "metadata": {},
   "outputs": [],
   "source": [
    "\n",
    "cord"
   ]
  },
  {
   "cell_type": "code",
   "execution_count": null,
   "id": "0f9f11aa",
   "metadata": {},
   "outputs": [],
   "source": [
    "\n",
    "a = list(zip(*cord))\n",
    "a"
   ]
  },
  {
   "cell_type": "code",
   "execution_count": null,
   "id": "d40e29f5",
   "metadata": {},
   "outputs": [],
   "source": [
    "\n",
    "min(a[0])"
   ]
  },
  {
   "cell_type": "code",
   "execution_count": null,
   "id": "405d2c77",
   "metadata": {},
   "outputs": [],
   "source": [
    "\n",
    "min(a[1])"
   ]
  },
  {
   "cell_type": "code",
   "execution_count": null,
   "id": "eb9f1e7e",
   "metadata": {},
   "outputs": [],
   "source": [
    "\n",
    "max(a[0])"
   ]
  },
  {
   "cell_type": "code",
   "execution_count": null,
   "id": "c1c2809e",
   "metadata": {},
   "outputs": [],
   "source": [
    "max(a[1])\n",
    "     "
   ]
  },
  {
   "cell_type": "code",
   "execution_count": null,
   "id": "723302c0",
   "metadata": {},
   "outputs": [],
   "source": [
    "x_min, y_min = [int(min(idx)) for idx in zip(*cord)]"
   ]
  },
  {
   "cell_type": "code",
   "execution_count": null,
   "id": "5d5dd5e2",
   "metadata": {},
   "outputs": [],
   "source": [
    "x_min, y_min"
   ]
  },
  {
   "cell_type": "code",
   "execution_count": null,
   "id": "f9c4e200",
   "metadata": {},
   "outputs": [],
   "source": [
    "\n",
    "x_max, y_max = [int(max(idx)) for idx in zip(*cord)]"
   ]
  },
  {
   "cell_type": "code",
   "execution_count": null,
   "id": "e2298ba8",
   "metadata": {},
   "outputs": [],
   "source": [
    "x_max, y_max"
   ]
  },
  {
   "cell_type": "code",
   "execution_count": null,
   "id": "fa966e3b",
   "metadata": {},
   "outputs": [],
   "source": [
    "from pylab import rcParams\n",
    "rcParams['figure.figsize'] = 20, 30"
   ]
  },
  {
   "cell_type": "code",
   "execution_count": 7,
   "id": "06206e0a",
   "metadata": {},
   "outputs": [
    {
     "ename": "NameError",
     "evalue": "name 'cv2' is not defined",
     "output_type": "error",
     "traceback": [
      "\u001b[1;31m---------------------------------------------------------------------------\u001b[0m",
      "\u001b[1;31mNameError\u001b[0m                                 Traceback (most recent call last)",
      "Cell \u001b[1;32mIn[7], line 1\u001b[0m\n\u001b[1;32m----> 1\u001b[0m image \u001b[38;5;241m=\u001b[39m \u001b[43mcv2\u001b[49m\u001b[38;5;241m.\u001b[39mimread(\u001b[38;5;124m'\u001b[39m\u001b[38;5;124m/content/scaned_img_0.png\u001b[39m\u001b[38;5;124m'\u001b[39m)\n\u001b[0;32m      2\u001b[0m cv2\u001b[38;5;241m.\u001b[39mrectangle(image,(x_min,y_min),(x_max,y_max),(\u001b[38;5;241m0\u001b[39m,\u001b[38;5;241m0\u001b[39m,\u001b[38;5;241m255\u001b[39m),\u001b[38;5;241m2\u001b[39m)\n\u001b[0;32m      3\u001b[0m plt\u001b[38;5;241m.\u001b[39mimshow(cv2\u001b[38;5;241m.\u001b[39mcvtColor(image, cv2\u001b[38;5;241m.\u001b[39mCOLOR_BGR2RGB))\n",
      "\u001b[1;31mNameError\u001b[0m: name 'cv2' is not defined"
     ]
    }
   ],
   "source": [
    "   \n",
    "\n",
    "image = cv2.imread('/content/scaned_img_0.png')\n",
    "cv2.rectangle(image,(x_min,y_min),(x_max,y_max),(0,0,255),2)\n",
    "plt.imshow(cv2.cvtColor(image, cv2.COLOR_BGR2RGB))\n",
    "     "
   ]
  },
  {
   "cell_type": "code",
   "execution_count": null,
   "id": "a50bfdc3",
   "metadata": {},
   "outputs": [],
   "source": []
  },
  {
   "cell_type": "code",
   "execution_count": null,
   "id": "50813c16",
   "metadata": {},
   "outputs": [],
   "source": []
  }
 ],
 "metadata": {
  "kernelspec": {
   "display_name": "Python 3 (ipykernel)",
   "language": "python",
   "name": "python3"
  },
  "language_info": {
   "codemirror_mode": {
    "name": "ipython",
    "version": 3
   },
   "file_extension": ".py",
   "mimetype": "text/x-python",
   "name": "python",
   "nbconvert_exporter": "python",
   "pygments_lexer": "ipython3",
   "version": "3.10.9"
  }
 },
 "nbformat": 4,
 "nbformat_minor": 5
}
